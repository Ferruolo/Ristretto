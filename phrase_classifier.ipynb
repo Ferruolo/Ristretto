{
 "cells": [
  {
   "cell_type": "code",
   "execution_count": 1,
   "metadata": {},
   "outputs": [],
   "source": [
    "import torch\n",
    "import torch.nn as nn\n",
    "import torch.nn.functional as F\n",
    "import pandas\n",
    "from scraper import guardian_dataset\n",
    "import numpy"
   ]
  },
  {
   "cell_type": "markdown",
   "metadata": {},
   "source": [
    "# First Steps\n",
    "In order to summmarize, we must first have a working way to group a corpus into phrases. Thats where this comes in"
   ]
  },
  {
   "cell_type": "code",
   "execution_count": 2,
   "metadata": {},
   "outputs": [],
   "source": [
    "def stack(array, second_dim,  cat_dim, stack_dim):\n",
    "    max_idx = max(array, key=lambda i: i.shape[0]).shape[0]\n",
    "    max_idx\n",
    "    out = []\n",
    "    for article in array:\n",
    "        remaining = max_idx - article.shape[0]\n",
    "        zeros_padding = torch.zeros((remaining, second_dim))\n",
    "        padded = torch.cat((article, zeros_padding),cat_dim)\n",
    "        out.append(padded)\n",
    "    return torch.stack(out, dim = stack_dim)"
   ]
  },
  {
   "cell_type": "markdown",
   "metadata": {},
   "source": [
    "I would like to thank the guardian for not having a paywall, so I was able to scrape the entire site and pull a bunch of articles"
   ]
  },
  {
   "cell_type": "code",
   "execution_count": 2,
   "metadata": {},
   "outputs": [
    {
     "ename": "NameError",
     "evalue": "name 'guardian_dataset' is not defined",
     "output_type": "error",
     "traceback": [
      "\u001b[1;31m---------------------------------------------------------------------------\u001b[0m",
      "\u001b[1;31mNameError\u001b[0m                                 Traceback (most recent call last)",
      "\u001b[1;32m<ipython-input-2-767755b21259>\u001b[0m in \u001b[0;36m<module>\u001b[1;34m\u001b[0m\n\u001b[1;32m----> 1\u001b[1;33m \u001b[0mw2v\u001b[0m \u001b[1;33m=\u001b[0m \u001b[0mguardian_dataset\u001b[0m\u001b[1;33m.\u001b[0m\u001b[0mw2v\u001b[0m\u001b[1;33m\u001b[0m\u001b[1;33m\u001b[0m\u001b[0m\n\u001b[0m",
      "\u001b[1;31mNameError\u001b[0m: name 'guardian_dataset' is not defined"
     ]
    }
   ],
   "source": [
    "w2v = guardian_dataset.w2v"
   ]
  },
  {
   "cell_type": "code",
   "execution_count": 4,
   "metadata": {},
   "outputs": [
    {
     "name": "stdout",
     "output_type": "stream",
     "text": [
      "classifier(\n",
      "  (lstm1): LSTM(300, 1)\n",
      "  (lin1): Linear(in_features=300, out_features=1, bias=True)\n",
      "  (sig1): LogSigmoid()\n",
      ")\n"
     ]
    }
   ],
   "source": [
    "#Fairly Simple classifier\n",
    "class classifier(nn.Module):\n",
    "\n",
    "    def __init__(self):\n",
    "        super(classifier, self).__init__()\n",
    "        self.lstm1 = nn.LSTM(300, 1)        \n",
    "    def forward(self, x):\n",
    "        x = self.lstm1(x)\n",
    "        return x\n",
    "\n",
    "net = classifier()\n",
    "print(net)"
   ]
  },
  {
   "cell_type": "code",
   "execution_count": 5,
   "metadata": {},
   "outputs": [
    {
     "name": "stderr",
     "output_type": "stream",
     "text": [
      "<ipython-input-5-3030377a004a>:13: UserWarning: The given NumPy array is not writeable, and PyTorch does not support non-writeable tensors. This means you can write to the underlying (supposedly non-writeable) NumPy array using the tensor. You may want to copy the array to protect its data or make it writeable before converting it to a tensor. This type of warning will be suppressed for the rest of this program. (Triggered internally at  /opt/conda/conda-bld/pytorch_1595629434582/work/torch/csrc/utils/tensor_numpy.cpp:141.)\n",
      "  x_a.append(torch.tensor(w2v[word]).requires_grad_(True))\n"
     ]
    }
   ],
   "source": [
    "articles = ['3', '10']\n",
    "t_x = list()\n",
    "t_y = list()\n",
    "\n",
    "for a in articles:\n",
    "    with open(f\"phrase_dataset/article{a}.csv\", 'r') as f:\n",
    "        df = pandas.read_csv(f)\n",
    "    x_a = list()\n",
    "    y_a = list()\n",
    "    for i in range(len(df)):\n",
    "        word = df.iloc[i, 1]\n",
    "        res = df.iloc[i, 2]\n",
    "        x_a.append(torch.tensor(w2v[word]).requires_grad_(True))\n",
    "        y_a.append(torch.tensor(numpy.asarray(res, dtype='float32')))\n",
    "    t_x.append(torch.stack(x_a))\n",
    "    t_y.append(torch.stack(y_a))\n",
    "\n",
    "\n"
   ]
  },
  {
   "cell_type": "code",
   "execution_count": 6,
   "metadata": {},
   "outputs": [],
   "source": [
    "max_idx = max(t_x, key=lambda i: i.shape[0]).shape[0]\n",
    "max_idx\n",
    "out = []\n",
    "for article in t_x:\n",
    "    remaining = max_idx - article.shape[0]\n",
    "    zeros_padding = torch.zeros((remaining, 300))\n",
    "    padded = torch.cat((article, zeros_padding), 0)\n",
    "    out.append(padded)\n",
    "t_x = torch.stack(out, dim = -2)"
   ]
  },
  {
   "cell_type": "code",
   "execution_count": 8,
   "metadata": {},
   "outputs": [],
   "source": [
    "max_idx = max(t_y, key=lambda i: i.shape[0]).shape[0]\n",
    "max_idx\n",
    "out = []\n",
    "for article in t_y:\n",
    "    remaining = max_idx - article.shape[0]\n",
    "    zeros_padding = torch.zeros((remaining))\n",
    "    padded = torch.cat((article, zeros_padding), 0 )\n",
    "    out.append(padded)\n",
    "t_y = torch.stack(out, dim = 0)"
   ]
  },
  {
   "cell_type": "code",
   "execution_count": 9,
   "metadata": {},
   "outputs": [],
   "source": [
    "z = net.forward(t_x)"
   ]
  },
  {
   "cell_type": "code",
   "execution_count": 10,
   "metadata": {},
   "outputs": [],
   "source": [
    "epochs = 300"
   ]
  },
  {
   "cell_type": "code",
   "execution_count": 11,
   "metadata": {},
   "outputs": [],
   "source": [
    "loss_fxn = nn.MSELoss()\n",
    "optim = torch.optim.Adam(net.parameters(), lr = 0.1)"
   ]
  },
  {
   "cell_type": "code",
   "execution_count": 1,
   "metadata": {},
   "outputs": [
    {
     "ename": "NameError",
     "evalue": "name 'epochs' is not defined",
     "output_type": "error",
     "traceback": [
      "\u001b[1;31m---------------------------------------------------------------------------\u001b[0m",
      "\u001b[1;31mNameError\u001b[0m                                 Traceback (most recent call last)",
      "\u001b[1;32m<ipython-input-1-673fb4147852>\u001b[0m in \u001b[0;36m<module>\u001b[1;34m\u001b[0m\n\u001b[1;32m----> 1\u001b[1;33m \u001b[1;32mfor\u001b[0m \u001b[0mepoch\u001b[0m \u001b[1;32min\u001b[0m \u001b[0mrange\u001b[0m\u001b[1;33m(\u001b[0m\u001b[0mepochs\u001b[0m\u001b[1;33m)\u001b[0m\u001b[1;33m:\u001b[0m\u001b[1;33m\u001b[0m\u001b[1;33m\u001b[0m\u001b[0m\n\u001b[0m\u001b[0;32m      2\u001b[0m     \u001b[0moptim\u001b[0m\u001b[1;33m.\u001b[0m\u001b[0mzero_grad\u001b[0m\u001b[1;33m(\u001b[0m\u001b[1;33m)\u001b[0m\u001b[1;33m\u001b[0m\u001b[1;33m\u001b[0m\u001b[0m\n\u001b[0;32m      3\u001b[0m     \u001b[0mz\u001b[0m \u001b[1;33m=\u001b[0m \u001b[0mnet\u001b[0m\u001b[1;33m.\u001b[0m\u001b[0mforward\u001b[0m\u001b[1;33m(\u001b[0m\u001b[0mt_x\u001b[0m\u001b[1;33m)\u001b[0m\u001b[1;33m\u001b[0m\u001b[1;33m\u001b[0m\u001b[0m\n\u001b[0;32m      4\u001b[0m     \u001b[0mloss\u001b[0m \u001b[1;33m=\u001b[0m \u001b[0mloss_fxn\u001b[0m\u001b[1;33m(\u001b[0m\u001b[0mz\u001b[0m\u001b[1;33m,\u001b[0m \u001b[0mt_y\u001b[0m\u001b[1;33m)\u001b[0m\u001b[1;33m\u001b[0m\u001b[1;33m\u001b[0m\u001b[0m\n\u001b[0;32m      5\u001b[0m     \u001b[0mprint\u001b[0m\u001b[1;33m(\u001b[0m\u001b[0mloss\u001b[0m\u001b[1;33m)\u001b[0m\u001b[1;33m\u001b[0m\u001b[1;33m\u001b[0m\u001b[0m\n",
      "\u001b[1;31mNameError\u001b[0m: name 'epochs' is not defined"
     ]
    }
   ],
   "source": [
    "for epoch in range(epochs):\n",
    "    optim.zero_grad()\n",
    "    z = net.forward(t_x)\n",
    "    loss = loss_fxn(z, t_y)\n",
    "    print(loss)\n",
    "    loss.backward()\n",
    "    optimizer.step()"
   ]
  },
  {
   "cell_type": "markdown",
   "metadata": {},
   "source": [
    "# Although not in this notebook, I have done a decent amount of testing with this network and it turns out to work decently well, enough for these purposes at least"
   ]
  }
 ],
 "metadata": {
  "kernelspec": {
   "display_name": "Python 3",
   "language": "python",
   "name": "python3"
  },
  "language_info": {
   "codemirror_mode": {
    "name": "ipython",
    "version": 3
   },
   "file_extension": ".py",
   "mimetype": "text/x-python",
   "name": "python",
   "nbconvert_exporter": "python",
   "pygments_lexer": "ipython3",
   "version": "3.8.3"
  }
 },
 "nbformat": 4,
 "nbformat_minor": 4
}

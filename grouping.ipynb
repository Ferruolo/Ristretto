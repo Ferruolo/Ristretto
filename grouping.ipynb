{
 "cells": [
  {
   "cell_type": "code",
   "execution_count": 2,
   "metadata": {},
   "outputs": [],
   "source": [
    "import scraper.guardian_dataset as corpus"
   ]
  },
  {
   "cell_type": "code",
   "execution_count": 3,
   "metadata": {},
   "outputs": [],
   "source": [
    "import torch\n",
    "from matplotlib import pyplot as plt\n",
    "import numpy\n",
    "from tqdm.notebook import tqdm, trange"
   ]
  },
  {
   "cell_type": "code",
   "execution_count": 4,
   "metadata": {},
   "outputs": [],
   "source": [
    "#Just to grab a bunch of random words that might fit into groups\n",
    "article = corpus.getArticle('https://www.theguardian.com/world/2020/sep/13/us-west-coast-choked-by-smoke-as-firefighters-tackle-deadly-wildfires')"
   ]
  },
  {
   "cell_type": "code",
   "execution_count": 5,
   "metadata": {},
   "outputs": [
    {
     "data": {
      "application/vnd.jupyter.widget-view+json": {
       "model_id": "e58330402caf4d4a933afff19d3bff7d",
       "version_major": 2,
       "version_minor": 0
      },
      "text/plain": [
       "HBox(children=(FloatProgress(value=0.0, max=1188.0), HTML(value='')))"
      ]
     },
     "metadata": {},
     "output_type": "display_data"
    },
    {
     "name": "stdout",
     "output_type": "stream",
     "text": [
      "\n"
     ]
    },
    {
     "name": "stderr",
     "output_type": "stream",
     "text": [
      "<ipython-input-5-6876257344bb>:5: UserWarning: The given NumPy array is not writeable, and PyTorch does not support non-writeable tensors. This means you can write to the underlying (supposedly non-writeable) NumPy array using the tensor. You may want to copy the array to protect its data or make it writeable before converting it to a tensor. This type of warning will be suppressed for the rest of this program. (Triggered internally at  /opt/conda/conda-bld/pytorch_1595629395347/work/torch/csrc/utils/tensor_numpy.cpp:141.)\n",
      "  vec_article.append(torch.from_numpy(word))\n"
     ]
    }
   ],
   "source": [
    "vec_article = list()\n",
    "for word in tqdm(article):\n",
    "    try:\n",
    "        word = corpus.w2v[word]\n",
    "        vec_article.append(torch.from_numpy(word))\n",
    "    except KeyError:\n",
    "        pass\n",
    "article = vec_article\n",
    "del vec_article"
   ]
  },
  {
   "cell_type": "code",
   "execution_count": 6,
   "metadata": {},
   "outputs": [],
   "source": [
    "#Now comes time to rank each of the articles\n",
    "ranked = list()\n",
    "for word in article:\n",
    "    sort_article = sorted(article, key=lambda w : torch.cosine_similarity(w, word, dim=0), reverse=False)\n",
    "    ranked.append({\"word\":word, \"rankings\":sort_article})"
   ]
  },
  {
   "cell_type": "code",
   "execution_count": 7,
   "metadata": {},
   "outputs": [],
   "source": [
    "#Lets prove the algo first:\n",
    "test = ranked[0]"
   ]
  },
  {
   "cell_type": "code",
   "execution_count": 8,
   "metadata": {},
   "outputs": [],
   "source": [
    "distances = [torch.cosine_similarity(w, test['word'], -1).item() for w in test['rankings']]\n",
    "distances = [i  for i in filter(lambda x: x!= 1, distances)]#Get rid of the same word, cause that messes up the scale"
   ]
  },
  {
   "cell_type": "code",
   "execution_count": 9,
   "metadata": {},
   "outputs": [
    {
     "data": {
      "image/png": "[encoded data removed]",
      "text/plain": [
       "<Figure size 432x288 with 1 Axes>"
      ]
     },
     "metadata": {
      "needs_background": "light"
     },
     "output_type": "display_data"
    }
   ],
   "source": [
    "#taking a quick look to prove that clear groupings exist\n",
    "%matplotlib inline \n",
    "#Kinda hard to see inline, need a larger output, i made it inline for my gh, u should switch it to qt\n",
    "plt.figure()\n",
    "# plt.hlines(1, 1, max(distances)/2)\n",
    "plt.eventplot(distances, orientation=\"horizontal\")\n",
    "plt.axis('off')\n",
    "plt.show()"
   ]
  },
  {
   "cell_type": "markdown",
   "metadata": {},
   "source": [
    "Cool, so its clear that there are groupings. Now how do we actually separate them? It is very easy to do visually, however, it is very difficult to make a general solution that will always work in a computer, as we have to assume inperfection\n",
    "\n",
    "In order to break up the vectors, we can turn the above graph into a 2 dimensional graph, and use some hack calculus in order to figure out where the groups break off."
   ]
  },
  {
   "cell_type": "markdown",
   "metadata": {},
   "source": [
    "# Making frequency graph 2-D"
   ]
  },
  {
   "cell_type": "code",
   "execution_count": 10,
   "metadata": {},
   "outputs": [
    {
     "data": {
      "text/plain": [
       "Text(0.5, 0, 'Distance from word')"
      ]
     },
     "execution_count": 10,
     "metadata": {},
     "output_type": "execute_result"
    },
    {
     "data": {
      "image/png": "[encoded data removed]",
      "text/plain": [
       "<Figure size 432x288 with 1 Axes>"
      ]
     },
     "metadata": {
      "needs_background": "light"
     },
     "output_type": "display_data"
    }
   ],
   "source": [
    "delta_distance = [0]\n",
    "#Forgive the bad code\n",
    "for d in range(1, len(distances)):\n",
    "    delta_distance.append(distances[d] - distances[d-1])\n",
    "plt.figure()\n",
    "plt.plot(delta_distance)\n",
    "plt.ylabel('Change in distance')\n",
    "plt.xlabel('Distance from word')"
   ]
  },
  {
   "cell_type": "markdown",
   "metadata": {},
   "source": [
    "Looking at the two above graphs right next to each other, one can see that there are obvious peaks in the 2-d graph between groups! \n",
    "Let's try to use these peaks to make groups"
   ]
  },
  {
   "cell_type": "code",
   "execution_count": 11,
   "metadata": {},
   "outputs": [],
   "source": [
    "groups = list()\n",
    "start_idx = 0\n",
    "running_avg = [0 for i in range(6)]\n",
    "for item in range(0, len(delta_distance)-2):\n",
    "    running_avg[0:5] = running_avg[1:6]\n",
    "    running_avg[5] = delta_distance[item+2] - delta_distance[item+1]\n",
    "    \n",
    "    if (sum(running_avg)/len(running_avg) < 0 and running_avg[5] < 0):\n",
    "        groups.append(test['rankings'][start_idx:item])\n",
    "        start_idx = item + 1"
   ]
  },
  {
   "cell_type": "code",
   "execution_count": 12,
   "metadata": {},
   "outputs": [],
   "source": [
    "lengths = [len(group) for group in groups]"
   ]
  },
  {
   "cell_type": "code",
   "execution_count": 13,
   "metadata": {},
   "outputs": [
    {
     "data": {
      "text/plain": [
       "4.737179487179487"
      ]
     },
     "execution_count": 13,
     "metadata": {},
     "output_type": "execute_result"
    }
   ],
   "source": [
    "avg_len = sum(lengths)/len(lengths)\n",
    "avg_len"
   ]
  },
  {
   "cell_type": "markdown",
   "metadata": {},
   "source": [
    "# Thats a pretty good average size for groups, keep in mind that some words are going to be extraneous, and others are going to have more than average pairings"
   ]
  },
  {
   "cell_type": "markdown",
   "metadata": {},
   "source": [
    "# Lets see how well these pairings are"
   ]
  },
  {
   "cell_type": "code",
   "execution_count": 14,
   "metadata": {},
   "outputs": [
    {
     "data": {
      "application/vnd.jupyter.widget-view+json": {
       "model_id": "e7f87a6c4f6742328217957a11deb506",
       "version_major": 2,
       "version_minor": 0
      },
      "text/plain": [
       "HBox(children=(FloatProgress(value=0.0, max=156.0), HTML(value='')))"
      ]
     },
     "metadata": {},
     "output_type": "display_data"
    },
    {
     "name": "stdout",
     "output_type": "stream",
     "text": [
      "\n"
     ]
    }
   ],
   "source": [
    "sum_dist_total = torch.zeros(1)\n",
    "counter_total = 0\n",
    "check = torch.zeros(300) == torch.ones(300)\n",
    "for group in tqdm(groups):\n",
    "    for item in group:\n",
    "        for other in group:\n",
    "            \n",
    "            if not torch.all(torch.eq(item, other)):\n",
    "                sum_dist_total += torch.cosine_similarity(item, other, -1)\n",
    "                counter_total += 1\n",
    "                "
   ]
  },
  {
   "cell_type": "code",
   "execution_count": 15,
   "metadata": {},
   "outputs": [
    {
     "data": {
      "text/plain": [
       "tensor([0.2256])"
      ]
     },
     "execution_count": 15,
     "metadata": {},
     "output_type": "execute_result"
    }
   ],
   "source": [
    "sum_dist_total/counter_total"
   ]
  },
  {
   "cell_type": "markdown",
   "metadata": {},
   "source": [
    "# So the pairings work out pretty well\n",
    "\n",
    "\n",
    "Now, lets look at the code to execute this on the entire dataset"
   ]
  },
  {
   "cell_type": "code",
   "execution_count": 16,
   "metadata": {},
   "outputs": [
    {
     "data": {
      "application/vnd.jupyter.widget-view+json": {
       "model_id": "8adb986dc00b4eee9489f71b928fc6eb",
       "version_major": 2,
       "version_minor": 0
      },
      "text/plain": [
       "HBox(children=(FloatProgress(value=0.0, max=906.0), HTML(value='')))"
      ]
     },
     "metadata": {},
     "output_type": "display_data"
    },
    {
     "name": "stdout",
     "output_type": "stream",
     "text": [
      "\n"
     ]
    }
   ],
   "source": [
    "#Flashing back to above, remember that \"ranked\" is a list of dictionaries with the properties 'word' and 'ranking'\n",
    "#Note: for most uses of this algo, you will NOT need to do all of this, only some of the grouping stuff. Therefore it will not take as long to run\n",
    "\n",
    "output = list()\n",
    "for word in tqdm(ranked):\n",
    "    distance = [torch.cosine_similarity(word['word'], i, -1) for i in word['rankings']]\n",
    "    delta_distance = [0]\n",
    "    for d in range(1, len(distance)):\n",
    "        delta_distance.append(distance[d] - distance[d-1])\n",
    "    groups = list()\n",
    "    start_idx = 0\n",
    "    running_avg = [0 for i in range(6)]\n",
    "    for item in range(0, len(delta_distance)-2):\n",
    "        running_avg[0:5] = running_avg[1:6]\n",
    "        running_avg[5] = delta_distance[item+2] - delta_distance[item+1]\n",
    "\n",
    "        if (sum(running_avg)/len(running_avg) < 0 and running_avg[5] < 0):\n",
    "            groups.append(word['rankings'][start_idx:item])\n",
    "            start_idx = item + 1\n",
    "    new_word = word\n",
    "    new_word.update({'groups':groups})\n",
    "    output.append(new_word)"
   ]
  },
  {
   "cell_type": "code",
   "execution_count": 44,
   "metadata": {},
   "outputs": [],
   "source": [
    "index = dict()\n",
    "mat = numpy.zeros((len(output), len(output)))\n",
    "i =0\n",
    "for word in output:\n",
    "    index.update({word['word']:i})\n",
    "    i += 1"
   ]
  },
  {
   "cell_type": "code",
   "execution_count": 45,
   "metadata": {},
   "outputs": [
    {
     "data": {
      "application/vnd.jupyter.widget-view+json": {
       "model_id": "dede49f6a0c14572964a90a56a525742",
       "version_major": 2,
       "version_minor": 0
      },
      "text/plain": [
       "HBox(children=(FloatProgress(value=0.0, max=906.0), HTML(value='')))"
      ]
     },
     "metadata": {},
     "output_type": "display_data"
    },
    {
     "name": "stdout",
     "output_type": "stream",
     "text": [
      "\n"
     ]
    }
   ],
   "source": [
    "for i in tqdm(output):\n",
    "    for g in i['groups']:\n",
    "        for item in g:\n",
    "            dex_1 = index[item]\n",
    "            for other in g:\n",
    "                if not torch.all(torch.eq(item, other)):\n",
    "                    dex_2 = index[other]\n",
    "                    mat[dex_1, dex_2] = mat[dex_1, dex_2] + 1\n",
    "                    mat[dex_2, dex_1] = mat[dex_2, dex_1] + 1\n",
    "                "
   ]
  },
  {
   "cell_type": "code",
   "execution_count": 46,
   "metadata": {},
   "outputs": [],
   "source": [
    "def index_of(my_list, val):\n",
    "    dex = list()\n",
    "    for i in range(len(my_list)):\n",
    "        if my_list[i] == val:\n",
    "            dex.append(i)\n",
    "    return dex"
   ]
  },
  {
   "cell_type": "code",
   "execution_count": 47,
   "metadata": {},
   "outputs": [
    {
     "data": {
      "text/plain": [
       "[13, 126, 173, 197, 270, 364, 482, 597, 689, 856, 861, 895]"
      ]
     },
     "execution_count": 47,
     "metadata": {},
     "output_type": "execute_result"
    }
   ],
   "source": [
    "index_of(mat[:, 0], max(mat[:, 0]))"
   ]
  },
  {
   "cell_type": "code",
   "execution_count": null,
   "metadata": {},
   "outputs": [],
   "source": []
  },
  {
   "cell_type": "code",
   "execution_count": 48,
   "metadata": {},
   "outputs": [],
   "source": [
    "def find_group(index, prev_len):\n",
    "\n",
    "    \n",
    "    \n",
    "    max_of = mat[index, :].max()\n",
    "    max_indicies = index_of(mat[:, index], max_of)\n",
    "    set_neg = max_indicies + [index]\n",
    "\n",
    "    for i in set_neg:\n",
    "        mat[index, i] = -1\n",
    "        mat[i, index] = -1\n",
    "    cur_len = len(max_indicies)\n",
    "    if cur_len < prev_len:\n",
    "        group_list = [find_group(i, cur_len) for i in max_indicies ] \n",
    "        ret = list()\n",
    "        for group in group_list:\n",
    "            ret += group_list\n",
    "        ret += max_indicies\n",
    "        return ret\n",
    "    else:\n",
    "        return max_indicies"
   ]
  },
  {
   "cell_type": "code",
   "execution_count": 49,
   "metadata": {},
   "outputs": [
    {
     "data": {
      "application/vnd.jupyter.widget-view+json": {
       "model_id": "383df41ea6c04ea09ce6502a225e6e03",
       "version_major": 2,
       "version_minor": 0
      },
      "text/plain": [
       "HBox(children=(FloatProgress(value=0.0, max=906.0), HTML(value='')))"
      ]
     },
     "metadata": {},
     "output_type": "display_data"
    },
    {
     "name": "stdout",
     "output_type": "stream",
     "text": [
      "\n"
     ]
    }
   ],
   "source": [
    "groups = list()\n",
    "for i in trange(mat.shape[0]):\n",
    "    if mat[i, i] != -1:\n",
    "        group = find_group(i, prev_len = mat.size)\n",
    "        groups.append(group)"
   ]
  },
  {
   "cell_type": "code",
   "execution_count": null,
   "metadata": {},
   "outputs": [],
   "source": [
    "groups"
   ]
  },
  {
   "cell_type": "code",
   "execution_count": 43,
   "metadata": {},
   "outputs": [
    {
     "data": {
      "text/plain": [
       "array([[ -1.,  32.,  48., ...,  32.,  72.,  56.],\n",
       "       [ 32.,  -1.,  40., ...,  16.,  64.,  48.],\n",
       "       [ 48.,  40.,  -1., ..., 104.,  40.,   0.],\n",
       "       ...,\n",
       "       [ 32.,  16., 104., ...,  -1.,  16.,  24.],\n",
       "       [ 72.,  64.,  40., ...,  16.,  -1.,  24.],\n",
       "       [ 56.,  48.,   0., ...,  24.,  24.,  -1.]])"
      ]
     },
     "execution_count": 43,
     "metadata": {},
     "output_type": "execute_result"
    }
   ],
   "source": [
    "mat"
   ]
  },
  {
   "cell_type": "code",
   "execution_count": null,
   "metadata": {},
   "outputs": [],
   "source": []
  }
 ],
 "metadata": {
  "kernelspec": {
   "display_name": "Python 3",
   "language": "python",
   "name": "python3"
  },
  "language_info": {
   "codemirror_mode": {
    "name": "ipython",
    "version": 3
   },
   "file_extension": ".py",
   "mimetype": "text/x-python",
   "name": "python",
   "nbconvert_exporter": "python",
   "pygments_lexer": "ipython3",
   "version": "3.8.3"
  }
 },
 "nbformat": 4,
 "nbformat_minor": 4
}
